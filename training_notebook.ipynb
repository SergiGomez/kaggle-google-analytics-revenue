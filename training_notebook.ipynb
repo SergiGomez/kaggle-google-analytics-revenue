{
 "cells": [
  {
   "cell_type": "code",
   "execution_count": 1,
   "metadata": {},
   "outputs": [
    {
     "name": "stderr",
     "output_type": "stream",
     "text": [
      "/Users/sergigomezpalleja/anaconda3/envs/kaggle/lib/python3.6/site-packages/lightgbm/__init__.py:46: UserWarning: Starting from version 2.2.1, the library file in distribution wheels for macOS is built by the Apple Clang (Xcode_9.4.1) compiler.\n",
      "This means that in case of installing LightGBM from PyPI via the ``pip install lightgbm`` command, you don't need to install the gcc compiler anymore.\n",
      "Instead of that, you need to install the OpenMP library, which is required for running LightGBM on the system with the Apple Clang compiler.\n",
      "You can install the OpenMP library by the following command: ``brew install libomp``.\n",
      "  \"You can install the OpenMP library by the following command: ``brew install libomp``.\", UserWarning)\n"
     ]
    }
   ],
   "source": [
    "import pandas as pd\n",
    "import numpy as np\n",
    "import copy\n",
    "import sys\n",
    "import datetime as dt\n",
    "import os\n",
    "\n",
    "from sklearn.model_selection import train_test_split\n",
    "\n",
    "import modelling_utils as mu\n",
    "\n",
    "import lightgbm as lgb"
   ]
  },
  {
   "cell_type": "code",
   "execution_count": 2,
   "metadata": {},
   "outputs": [],
   "source": [
    "target_var = 'transactionRevenue'\n",
    "\n",
    "model_name = 'lgb'\n",
    "\n",
    "catVarsDict = {'channelGrouping' : 'BinaryEncoder',\n",
    "               'browser': 'LabelEncoder',\n",
    "               'operatingSystem': 'LabelEncoder',\n",
    "               'deviceCategory': 'OneHot',\n",
    "               'continent': 'BinaryEncoder',\n",
    "               'subContinent': 'LabelEncoder',\n",
    "               'country': 'LabelEncoder',\n",
    "               'region': 'LabelEncoder',\n",
    "               'metro': 'LabelEncoder',\n",
    "               'city': 'LabelEncoder',\n",
    "               'networkDomain': 'LabelEncoder',\n",
    "               'campaign': 'LabelEncoder',\n",
    "               'source': 'LabelEncoder',\n",
    "               'medium': 'LabelEncoder',\n",
    "               'sourceMedium': 'LabelEncoder'}\n",
    "\n",
    "params_lgb = {\n",
    "        \"objective\" : \"regression\",\n",
    "        \"metric\" : \"rmse\",\n",
    "        \"num_leaves\" : 40,\n",
    "        \"learning_rate\" : 0.005,\n",
    "        \"bagging_fraction\" : 0.6,\n",
    "        \"feature_fraction\" : 0.6,\n",
    "        \"bagging_frequency\" : 6,\n",
    "        \"bagging_seed\" : 42,\n",
    "        \"verbosity\" : -1,\n",
    "        \"seed\": 42}"
   ]
  },
  {
   "cell_type": "code",
   "execution_count": 3,
   "metadata": {},
   "outputs": [],
   "source": [
    "train  = pd.read_csv(os.getcwd() + '/train_set_processed.csv', index_col=0)\n",
    "test = pd.read_csv(os.getcwd() + '/test_set_processed.csv', index_col=0)"
   ]
  },
  {
   "cell_type": "code",
   "execution_count": 5,
   "metadata": {},
   "outputs": [],
   "source": [
    "train['set'] = 'train'\n",
    "test['set'] = 'test'\n",
    "# Target variable for the test set is created just for data processing purpose\n",
    "test[target_var]= 0"
   ]
  },
  {
   "cell_type": "code",
   "execution_count": 6,
   "metadata": {},
   "outputs": [
    {
     "name": "stdout",
     "output_type": "stream",
     "text": [
      "\n",
      "All Data shape: 90365 Rows, 31 Columns\n"
     ]
    }
   ],
   "source": [
    "all = pd.concat([train,test],axis=0)\n",
    "print('\\nAll Data shape: {} Rows, {} Columns'.format(*all.shape))"
   ]
  },
  {
   "cell_type": "code",
   "execution_count": 7,
   "metadata": {},
   "outputs": [
    {
     "name": "stdout",
     "output_type": "stream",
     "text": [
      "Categorical variables: ['channelGrouping', 'date', 'sessionId', 'browser', 'operatingSystem', 'deviceCategory', 'continent', 'subContinent', 'country', 'region', 'metro', 'city', 'networkDomain', 'campaign', 'source', 'medium', 'sourceMedium', 'set']\n"
     ]
    }
   ],
   "source": [
    "print(\"Categorical variables: \" + str(list(all.select_dtypes(include=['object']))))"
   ]
  },
  {
   "cell_type": "code",
   "execution_count": 8,
   "metadata": {},
   "outputs": [],
   "source": [
    "all = mu.processingPreModelling(df = all, catVarsDict = catVarsDict)"
   ]
  },
  {
   "cell_type": "code",
   "execution_count": 9,
   "metadata": {},
   "outputs": [
    {
     "name": "stdout",
     "output_type": "stream",
     "text": [
      "<class 'pandas.core.frame.DataFrame'>\n",
      "Int64Index: 90365 entries, 1 to 18186\n",
      "Data columns (total 38 columns):\n",
      "continent_1               90365 non-null int64\n",
      "continent_2               90365 non-null int64\n",
      "continent_3               90365 non-null int64\n",
      "deviceCategory_desktop    90365 non-null int64\n",
      "deviceCategory_mobile     90365 non-null int64\n",
      "deviceCategory_tablet     90365 non-null int64\n",
      "channelGrouping_0         90365 non-null int64\n",
      "channelGrouping_1         90365 non-null int64\n",
      "channelGrouping_2         90365 non-null int64\n",
      "channelGrouping_3         90365 non-null int64\n",
      "date                      90365 non-null datetime64[ns]\n",
      "fullVisitorId             90365 non-null float64\n",
      "sessionId                 90365 non-null object\n",
      "visitId                   90365 non-null int64\n",
      "visitNumber               90365 non-null int64\n",
      "visitStartTime            90365 non-null int64\n",
      "browser                   90365 non-null int64\n",
      "operatingSystem           90365 non-null int64\n",
      "isMobile                  90365 non-null int64\n",
      "subContinent              90365 non-null int64\n",
      "country                   90365 non-null int64\n",
      "region                    90365 non-null int64\n",
      "metro                     90365 non-null int64\n",
      "city                      90365 non-null int64\n",
      "networkDomain             90365 non-null int64\n",
      "hits                      90365 non-null int64\n",
      "pageviews                 90365 non-null int64\n",
      "bounces                   90365 non-null int64\n",
      "newVisits                 90365 non-null int64\n",
      "transactionRevenue        90365 non-null float64\n",
      "campaign                  90365 non-null int64\n",
      "source                    90365 non-null int64\n",
      "medium                    90365 non-null int64\n",
      "weekday                   90365 non-null int64\n",
      "month                     90365 non-null int64\n",
      "sourceMedium              90365 non-null int64\n",
      "isTrueDirect              90365 non-null int64\n",
      "set                       90365 non-null object\n",
      "dtypes: datetime64[ns](1), float64(2), int64(33), object(2)\n",
      "memory usage: 26.9+ MB\n"
     ]
    }
   ],
   "source": [
    "all.info()"
   ]
  },
  {
   "cell_type": "code",
   "execution_count": 18,
   "metadata": {},
   "outputs": [],
   "source": [
    "train_all = all.loc[all['set'] == 'train']\n",
    "X = train_all\n",
    "y = train_all[target_var]\n",
    "y = y.apply(lambda x: np.log1p(x))"
   ]
  },
  {
   "cell_type": "code",
   "execution_count": 22,
   "metadata": {},
   "outputs": [
    {
     "data": {
      "text/plain": [
       "45     19.538736\n",
       "120    19.849220\n",
       "283    17.228637\n",
       "340    19.108765\n",
       "411    17.945061\n",
       "500    16.453138\n",
       "549    17.909021\n",
       "672    16.873278\n",
       "882    18.314987\n",
       "903    19.886525\n",
       "Name: transactionRevenue, dtype: float64"
      ]
     },
     "execution_count": 22,
     "metadata": {},
     "output_type": "execute_result"
    }
   ],
   "source": [
    "y.loc[y  > 0].head(n=10)"
   ]
  },
  {
   "cell_type": "code",
   "execution_count": 23,
   "metadata": {},
   "outputs": [],
   "source": [
    "X = X.drop([target_var, 'set', 'sessionId', 'date'], axis=1)"
   ]
  },
  {
   "cell_type": "code",
   "execution_count": 24,
   "metadata": {},
   "outputs": [],
   "source": [
    "train_X, val_X, train_y, val_y = train_test_split(X, y,\n",
    "                                                test_size=0.15, random_state=1)"
   ]
  },
  {
   "cell_type": "code",
   "execution_count": 43,
   "metadata": {},
   "outputs": [],
   "source": [
    "test_X_orig = all.loc[all['set'] == 'test']\n",
    "test_X = test_X_orig.drop([target_var, 'set', 'sessionId', 'date'], axis=1)"
   ]
  },
  {
   "cell_type": "code",
   "execution_count": 26,
   "metadata": {},
   "outputs": [
    {
     "name": "stdout",
     "output_type": "stream",
     "text": [
      "\n",
      " Training set shape: 61352 Rows, 34 Columns\n",
      "\n",
      " Validation set shape: 10827 Rows, 34 Columns\n",
      "\n",
      " Test set shape: 18186 Rows, 34 Columns\n"
     ]
    }
   ],
   "source": [
    "print('\\n Training set shape: {} Rows, {} Columns'.format(*train_X.shape))\n",
    "print('\\n Validation set shape: {} Rows, {} Columns'.format(*val_X.shape))\n",
    "print('\\n Test set shape: {} Rows, {} Columns'.format(*test_X.shape))"
   ]
  },
  {
   "cell_type": "code",
   "execution_count": 38,
   "metadata": {},
   "outputs": [],
   "source": [
    "from sklearn.metrics import mean_squared_error\n",
    "\n",
    "def rmse(y_true, y_pred):\n",
    "    return round(np.sqrt(mean_squared_error(y_true, y_pred)), 5)\n",
    "\n",
    "def do_training(train_X, train_y, val_X, val_y, model_name, params):\n",
    "    \n",
    "    if model_name == 'lgb':\n",
    "        \n",
    "        lgb_train = lgb.Dataset(train_X, label = train_y)\n",
    "        lgb_val = lgb.Dataset(val_X, label = val_y)\n",
    "        \n",
    "        model = lgb.train(params, \n",
    "                          lgb_train, \n",
    "                          num_boost_round=500,\n",
    "                          valid_sets=[lgb_train, lgb_val],\n",
    "                          early_stopping_rounds=100,\n",
    "                          verbose_eval=50)\n",
    "        \n",
    "        train_y_pred = model.predict(train_X, num_iteration = model.best_iteration)\n",
    "        val_y_pred = model.predict(val_X, num_iteration = model.best_iteration)\n",
    "        print(f\"LGBM: RMSE val: {rmse(val_y, val_y_pred)}  - RMSE train: {rmse(train_y, train_y_pred)}\")\n",
    "        \n",
    "    return model"
   ]
  },
  {
   "cell_type": "code",
   "execution_count": 39,
   "metadata": {},
   "outputs": [
    {
     "name": "stdout",
     "output_type": "stream",
     "text": [
      "Training until validation scores don't improve for 100 rounds.\n",
      "[50]\ttraining's rmse: 1.8591\tvalid_1's rmse: 1.83711\n",
      "[100]\ttraining's rmse: 1.76691\tvalid_1's rmse: 1.76746\n",
      "[150]\ttraining's rmse: 1.69294\tvalid_1's rmse: 1.71765\n",
      "[200]\ttraining's rmse: 1.63628\tvalid_1's rmse: 1.68485\n",
      "[250]\ttraining's rmse: 1.59651\tvalid_1's rmse: 1.66661\n",
      "[300]\ttraining's rmse: 1.5609\tvalid_1's rmse: 1.65251\n",
      "[350]\ttraining's rmse: 1.52825\tvalid_1's rmse: 1.64377\n",
      "[400]\ttraining's rmse: 1.50109\tvalid_1's rmse: 1.63778\n",
      "[450]\ttraining's rmse: 1.47682\tvalid_1's rmse: 1.63372\n",
      "[500]\ttraining's rmse: 1.45483\tvalid_1's rmse: 1.63045\n",
      "Did not meet early stopping. Best iteration is:\n",
      "[500]\ttraining's rmse: 1.45483\tvalid_1's rmse: 1.63045\n",
      "LGBM: RMSE val: 1.63045  - RMSE train: 1.45483\n"
     ]
    }
   ],
   "source": [
    "model = do_training(train_X, train_y, val_X, val_y, model_name, params = params_lgb)"
   ]
  },
  {
   "cell_type": "code",
   "execution_count": 40,
   "metadata": {},
   "outputs": [],
   "source": [
    "test_y_pred = model.predict(test_X, num_iteration=model.best_iteration)"
   ]
  },
  {
   "cell_type": "code",
   "execution_count": 42,
   "metadata": {},
   "outputs": [
    {
     "data": {
      "text/plain": [
       "array([0.00917878, 0.08503638, 0.00628249, 0.00508158, 0.07352799,\n",
       "       0.00508158, 0.02012852, 0.02896378, 0.00454976])"
      ]
     },
     "execution_count": 42,
     "metadata": {},
     "output_type": "execute_result"
    }
   ],
   "source": [
    "test_y_pred[1:10]"
   ]
  },
  {
   "cell_type": "code",
   "execution_count": 48,
   "metadata": {},
   "outputs": [],
   "source": [
    "prepare_submission(test_X_orig, test_y_pred, filename = 'submit.csv')"
   ]
  },
  {
   "cell_type": "code",
   "execution_count": 46,
   "metadata": {},
   "outputs": [],
   "source": [
    "def prepare_submission(test_X, test_y_pred, filename = 'submit.csv'):\n",
    "    \n",
    "    submission = test_X[['fullVisitorId']].copy()\n",
    "    submission.loc[:, 'PredictedLogRevenue'] = test_y_pred\n",
    "    grouped_submission = submission[['fullVisitorId', 'PredictedLogRevenue']].groupby('fullVisitorId').sum().reset_index()\n",
    "    grouped_submission.to_csv(filename,index=False)"
   ]
  },
  {
   "cell_type": "code",
   "execution_count": 49,
   "metadata": {},
   "outputs": [],
   "source": [
    "submission = test_X_orig[['fullVisitorId']].copy()"
   ]
  },
  {
   "cell_type": "code",
   "execution_count": 50,
   "metadata": {},
   "outputs": [
    {
     "data": {
      "text/plain": [
       "(18186, 1)"
      ]
     },
     "execution_count": 50,
     "metadata": {},
     "output_type": "execute_result"
    }
   ],
   "source": [
    "submission.shape"
   ]
  },
  {
   "cell_type": "code",
   "execution_count": 51,
   "metadata": {},
   "outputs": [
    {
     "data": {
      "text/plain": [
       "18186"
      ]
     },
     "execution_count": 51,
     "metadata": {},
     "output_type": "execute_result"
    }
   ],
   "source": [
    "len(test_y_pred)"
   ]
  }
 ],
 "metadata": {
  "kernelspec": {
   "display_name": "Python [conda env:kaggle]",
   "language": "python",
   "name": "conda-env-kaggle-py"
  },
  "language_info": {
   "codemirror_mode": {
    "name": "ipython",
    "version": 3
   },
   "file_extension": ".py",
   "mimetype": "text/x-python",
   "name": "python",
   "nbconvert_exporter": "python",
   "pygments_lexer": "ipython3",
   "version": "3.6.3"
  }
 },
 "nbformat": 4,
 "nbformat_minor": 2
}
