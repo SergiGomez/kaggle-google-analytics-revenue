{
 "cells": [
  {
   "cell_type": "code",
   "execution_count": 24,
   "metadata": {},
   "outputs": [],
   "source": [
    "import pandas as pd\n",
    "import numpy as np\n",
    "import copy\n",
    "import sys\n",
    "import datetime as dt\n",
    "import os\n",
    "\n",
    "from sklearn.model_selection import train_test_split\n",
    "\n",
    "import modelling_utils as mu\n",
    "\n",
    "import lightgbm as lgb"
   ]
  },
  {
   "cell_type": "code",
   "execution_count": 20,
   "metadata": {},
   "outputs": [],
   "source": [
    "target_var = 'transactionRevenue'\n",
    "\n",
    "model_name = 'lgb'\n",
    "\n",
    "catVarsDict = {'channelGrouping' : 'BinaryEncoder',\n",
    "               'browser': 'LabelEncoder',\n",
    "               'operatingSystem': 'LabelEncoder',\n",
    "               'deviceCategory': 'OneHot',\n",
    "               'continent': 'BinaryEncoder',\n",
    "               'subContinent': 'LabelEncoder',\n",
    "               'country': 'LabelEncoder',\n",
    "               'region': 'LabelEncoder',\n",
    "               'metro': 'LabelEncoder',\n",
    "               'city': 'LabelEncoder',\n",
    "               'networkDomain': 'LabelEncoder',\n",
    "               'campaign': 'LabelEncoder',\n",
    "               'source': 'LabelEncoder',\n",
    "               'medium': 'LabelEncoder',\n",
    "               'sourceMedium': 'LabelEncoder'}\n",
    "\n",
    "params_lgb = {\n",
    "        \"objective\" : \"regression\",\n",
    "        \"metric\" : \"rmse\",\n",
    "        \"num_leaves\" : 40,\n",
    "        \"learning_rate\" : 0.005,\n",
    "        \"bagging_fraction\" : 0.6,\n",
    "        \"feature_fraction\" : 0.6,\n",
    "        \"bagging_frequency\" : 6,\n",
    "        \"bagging_seed\" : 42,\n",
    "        \"verbosity\" : -1,\n",
    "        \"seed\": 42}"
   ]
  },
  {
   "cell_type": "code",
   "execution_count": 3,
   "metadata": {},
   "outputs": [],
   "source": [
    "train  = pd.read_csv(os.getcwd() + '/train_set_processed.csv', index_col=0)\n",
    "test = pd.read_csv(os.getcwd() + '/test_set_processed.csv', index_col=0)"
   ]
  },
  {
   "cell_type": "code",
   "execution_count": 4,
   "metadata": {},
   "outputs": [],
   "source": [
    "train['set'] = 'train'\n",
    "test['set'] = 'test'\n",
    "# Target variable for the test set is created just for data processing purpose\n",
    "test[target_var]= 0"
   ]
  },
  {
   "cell_type": "code",
   "execution_count": 5,
   "metadata": {},
   "outputs": [
    {
     "name": "stdout",
     "output_type": "stream",
     "text": [
      "\n",
      "All Data shape: 90365 Rows, 31 Columns\n"
     ]
    }
   ],
   "source": [
    "all = pd.concat([train,test],axis=0)\n",
    "print('\\nAll Data shape: {} Rows, {} Columns'.format(*all.shape))"
   ]
  },
  {
   "cell_type": "code",
   "execution_count": 7,
   "metadata": {},
   "outputs": [
    {
     "name": "stdout",
     "output_type": "stream",
     "text": [
      "Categorical variables: ['channelGrouping', 'date', 'sessionId', 'browser', 'operatingSystem', 'deviceCategory', 'continent', 'subContinent', 'country', 'region', 'metro', 'city', 'networkDomain', 'campaign', 'source', 'medium', 'sourceMedium', 'set']\n"
     ]
    }
   ],
   "source": [
    "print(\"Categorical variables: \" + str(list(all.select_dtypes(include=['object']))))"
   ]
  },
  {
   "cell_type": "code",
   "execution_count": 8,
   "metadata": {},
   "outputs": [],
   "source": [
    "all = mu.processingPreModelling(df = all, catVarsDict = catVarsDict)"
   ]
  },
  {
   "cell_type": "code",
   "execution_count": 31,
   "metadata": {},
   "outputs": [
    {
     "name": "stdout",
     "output_type": "stream",
     "text": [
      "<class 'pandas.core.frame.DataFrame'>\n",
      "Int64Index: 90365 entries, 1 to 18186\n",
      "Data columns (total 38 columns):\n",
      "continent_1               90365 non-null int64\n",
      "continent_2               90365 non-null int64\n",
      "continent_3               90365 non-null int64\n",
      "deviceCategory_desktop    90365 non-null int64\n",
      "deviceCategory_mobile     90365 non-null int64\n",
      "deviceCategory_tablet     90365 non-null int64\n",
      "channelGrouping_0         90365 non-null int64\n",
      "channelGrouping_1         90365 non-null int64\n",
      "channelGrouping_2         90365 non-null int64\n",
      "channelGrouping_3         90365 non-null int64\n",
      "date                      90365 non-null datetime64[ns]\n",
      "fullVisitorId             90365 non-null float64\n",
      "sessionId                 90365 non-null object\n",
      "visitId                   90365 non-null int64\n",
      "visitNumber               90365 non-null int64\n",
      "visitStartTime            90365 non-null int64\n",
      "browser                   90365 non-null int64\n",
      "operatingSystem           90365 non-null int64\n",
      "isMobile                  90365 non-null int64\n",
      "subContinent              90365 non-null int64\n",
      "country                   90365 non-null int64\n",
      "region                    90365 non-null int64\n",
      "metro                     90365 non-null int64\n",
      "city                      90365 non-null int64\n",
      "networkDomain             90365 non-null int64\n",
      "hits                      90365 non-null int64\n",
      "pageviews                 90365 non-null int64\n",
      "bounces                   90365 non-null int64\n",
      "newVisits                 90365 non-null int64\n",
      "transactionRevenue        90365 non-null float64\n",
      "campaign                  90365 non-null int64\n",
      "source                    90365 non-null int64\n",
      "medium                    90365 non-null int64\n",
      "weekday                   90365 non-null int64\n",
      "month                     90365 non-null int64\n",
      "sourceMedium              90365 non-null int64\n",
      "isTrueDirect              90365 non-null int64\n",
      "set                       90365 non-null object\n",
      "dtypes: datetime64[ns](1), float64(2), int64(33), object(2)\n",
      "memory usage: 26.9+ MB\n"
     ]
    }
   ],
   "source": [
    "all.info()"
   ]
  },
  {
   "cell_type": "code",
   "execution_count": 32,
   "metadata": {},
   "outputs": [],
   "source": [
    "train_all = all.loc[all['set'] == 'train']\n",
    "X = train_all\n",
    "y = train_all[target_var]"
   ]
  },
  {
   "cell_type": "code",
   "execution_count": 33,
   "metadata": {},
   "outputs": [],
   "source": [
    "X = X.drop([target_var, 'set', 'sessionId', 'date'], axis=1)"
   ]
  },
  {
   "cell_type": "code",
   "execution_count": 34,
   "metadata": {},
   "outputs": [],
   "source": [
    "train_X, val_X, train_y, val_y = train_test_split(X, y,\n",
    "                                                test_size=0.15, random_state=1)"
   ]
  },
  {
   "cell_type": "code",
   "execution_count": 35,
   "metadata": {},
   "outputs": [],
   "source": [
    "test_X = all.loc[all['set'] == 'test']\n",
    "test_X = test_X.drop([target_var, 'set', 'sessionId', 'date'], axis=1)"
   ]
  },
  {
   "cell_type": "code",
   "execution_count": 36,
   "metadata": {},
   "outputs": [
    {
     "name": "stdout",
     "output_type": "stream",
     "text": [
      "\n",
      " Training set shape: 61352 Rows, 34 Columns\n",
      "\n",
      " Validation set shape: 10827 Rows, 34 Columns\n",
      "\n",
      " Test set shape: 18186 Rows, 34 Columns\n"
     ]
    }
   ],
   "source": [
    "print('\\n Training set shape: {} Rows, {} Columns'.format(*train_X.shape))\n",
    "print('\\n Validation set shape: {} Rows, {} Columns'.format(*val_X.shape))\n",
    "print('\\n Test set shape: {} Rows, {} Columns'.format(*test_X.shape))"
   ]
  },
  {
   "cell_type": "code",
   "execution_count": 37,
   "metadata": {},
   "outputs": [
    {
     "name": "stdout",
     "output_type": "stream",
     "text": [
      "Training until validation scores don't improve for 100 rounds.\n",
      "[50]\ttraining's rmse: 2.87837e+07\tvalid_1's rmse: 4.69223e+07\n",
      "[100]\ttraining's rmse: 2.79631e+07\tvalid_1's rmse: 4.66699e+07\n",
      "[150]\ttraining's rmse: 2.72719e+07\tvalid_1's rmse: 4.65068e+07\n",
      "[200]\ttraining's rmse: 2.66966e+07\tvalid_1's rmse: 4.64182e+07\n",
      "[250]\ttraining's rmse: 2.62205e+07\tvalid_1's rmse: 4.63938e+07\n",
      "[300]\ttraining's rmse: 2.57899e+07\tvalid_1's rmse: 4.63916e+07\n",
      "[350]\ttraining's rmse: 2.53575e+07\tvalid_1's rmse: 4.63613e+07\n",
      "[400]\ttraining's rmse: 2.49753e+07\tvalid_1's rmse: 4.63403e+07\n",
      "[450]\ttraining's rmse: 2.45879e+07\tvalid_1's rmse: 4.63781e+07\n",
      "[500]\ttraining's rmse: 2.42414e+07\tvalid_1's rmse: 4.64036e+07\n",
      "Did not meet early stopping. Best iteration is:\n",
      "[500]\ttraining's rmse: 2.42414e+07\tvalid_1's rmse: 4.64036e+07\n"
     ]
    },
    {
     "data": {
      "text/plain": [
       "<lightgbm.basic.Booster at 0x10deca160>"
      ]
     },
     "execution_count": 37,
     "metadata": {},
     "output_type": "execute_result"
    }
   ],
   "source": [
    "do_training(train_X, train_y, val_X, val_y, test_X, model_name, params = params_lgb)"
   ]
  },
  {
   "cell_type": "code",
   "execution_count": 28,
   "metadata": {},
   "outputs": [],
   "source": [
    "def do_training(train_X, train_y, val_X, val_y, test_X, model_name, params):\n",
    "    \n",
    "    if model_name == 'lgb':\n",
    "        \n",
    "        lgb_train = lgb.Dataset(train_X, label = train_y)\n",
    "        lgb_val = lgb.Dataset(val_X, label = val_y)\n",
    "        \n",
    "        model = lgb.train(params, \n",
    "                          lgb_train, \n",
    "                          num_boost_round=500,\n",
    "                          valid_sets=[lgb_train, lgb_val],\n",
    "                          early_stopping_rounds=100,\n",
    "                          verbose_eval=50)\n",
    "    \n",
    "    return model"
   ]
  }
 ],
 "metadata": {
  "kernelspec": {
   "display_name": "Python [conda env:kaggle]",
   "language": "python",
   "name": "conda-env-kaggle-py"
  },
  "language_info": {
   "codemirror_mode": {
    "name": "ipython",
    "version": 3
   },
   "file_extension": ".py",
   "mimetype": "text/x-python",
   "name": "python",
   "nbconvert_exporter": "python",
   "pygments_lexer": "ipython3",
   "version": "3.6.3"
  }
 },
 "nbformat": 4,
 "nbformat_minor": 2
}
